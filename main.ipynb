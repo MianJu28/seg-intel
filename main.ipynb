{
 "cells": [
  {
   "cell_type": "code",
   "execution_count": 1,
   "id": "2e67a580-e508-4fed-bd8f-893299f339b8",
   "metadata": {},
   "outputs": [
    {
     "name": "stdout",
     "output_type": "stream",
     "text": [
      "      6 idc001skl,compnode,openvino-latest,intel-core,i5-6500te,intel-hd-530,ram8gb\n",
      "      6 idc002mx8,compnode,openvino-latest,intel-core,i5-6500te,intel-hd-530,ram8gb,myriadx-8-vpu\n",
      "      5 idc004nc2,compnode,openvino-latest,intel-core,i5-6500te,intel-hd-530,ram8gb,myriadx-1-vpu\n",
      "      1 idc006kbl,compnode,openvino-latest,intel-core,i5-7500t,intel-hd-630,ram8gb\n",
      "      2 idc007xv5,compnode,openvino-latest,intel-xeon,e3-1268l-v5,intel-hd-p530,ram32gb\n",
      "      2 idc008u2g,compnode,openvino-latest,intel-atom,e3950,intel-hd-505,ram4gb,myriadx-1-vpu\n",
      "      1 idc010jal,compnode,openvino-latest,intel-celeron,j3355,intel-hd-500,ram4gb\n",
      "      1 idc011ark2250s,compnode,openvino-latest,intel-core,i5-6442eq,intel-hd-530,ram8gb,myriadx-3-vpu\n",
      "      1 idc012ark1220l,compnode,openvino-latest,intel-atom,e3940,intel-hd-500,ram8gb,myriadx-2-vpu\n",
      "      1 idc013ds580,compnode,openvino-latest,intel-atom,e3950,intel-hd-505,ram8gb\n",
      "      4 idc014,compnode,openvino-latest,intel-core,i7-8665ue,intel-uhd-620,ram16gb,myriadx-2-vpu\n",
      "      3 idc015ai5,compnode,openvino-latest,intel-core,i5-8365ue,intel-uhd-620,ram8gb\n",
      "      2 idc016ai7,compnode,openvino-latest,intel-core,i7-8665ue,intel-uhd-620,ram16gb\n",
      "      1 idc017,compnode,openvino-latest,intel-xeon,gold5220r,no-gpu,ram96gb\n",
      "      2 idc018,compnode,openvino-latest,intel-xeon,gold6258r,no-gpu,ram96gb,dlstreamer\n",
      "      1 idc019,compnode,openvino-latest,intel-xeon,bronze-3206R,no-gpu,ram48gb\n",
      "      2 idc021,compnode,openvino-latest,intel-xeon,silver4214r,no-gpu,ram48gb\n",
      "     10 idc022,compnode,openvino-latest,intel-core,i7-10710u,intel-uhd-620,ram16gb\n",
      "      6 idc023,compnode,openvino-latest,intel-core,i5-8365ue,intel-uhd-620,ram8gb,myriadx-2-vpu\n",
      "      1 idc024,compnode,openvino-latest,intel-xeon,gold5220r,no-gpu,ram96gb,myriadx-8-vpu\n",
      "      1 idc026,compnode,openvino-latest,intel-xeon,bronze3206r,no-gpu,ram48gb,myriadx-8-vpu\n",
      "      1 idc027,compnode,openvino-latest,intel-xeon,silver4214r,no-gpu,ram48gb,myriadx-8-vpu\n",
      "      1 idc029,compnode,openvino-latest,intel-core,i7-8665u,intel-uhd-620,ram32gb\n",
      "      1 idc030,compnode,openvino-latest,intel-core,i7-1065g7,iris-plus,ram16gb\n",
      "      8 idc033,compnode,openvino-latest,intel-xeon,e-2286m,intel-uhd-p630,ram32gb\n",
      "      4 idc036,compnode,openvino-latest,intel-core,i9-10900t,intel-uhd-630,ram32gb\n",
      "      5 idc037,compnode,openvino-latest,intel-core,i7-10700t,intel-uhd-630,ram32gb\n",
      "      5 idc038,compnode,openvino-latest,intel-core,i5-8365ue,intel-uhd-620,ram8gb,myriadx-2-vpu\n",
      "      1 idc042,compnode,openvino-latest,intel-core,i5-8500t,intel-uhd-630,ram32gb,myriadx-8-vpu,aaeon,boxer-6842m\n",
      "      1 idc043,compnode,openvino-latest,intel-core,i3-10100te,intel-uhd-630,ram16gb,myriadx-2-vpu,aaeon,genesys-cml5ai\n",
      "      1 idc044,compnode,openvino-latest,intel-atom,e3950,intel-uhd-630,ram8gb,myriadx-1-vpu\n",
      "      5 idc045,compnode,openvino-latest,intel-core,i7-1185g7e,iris-xe-graphics,ram16gb,none\n",
      "      2 idc046,compnode,openvino-latest,intel-core,i5-1145g7e,iris-xe-graphics,ram16gb\n",
      "      1 idc051,compnode,openvino-latest,intel-xeon,gold6314u,no-gpu,ram128gb,none,icelake\n",
      "      5 idc052,compnode,openvino-latest,intel-xeon,gold6338n,no-gpu,ram128gb,none,icelake\n",
      "      1 idc054,compnode,openvino-latest,intel-core,i7-1165g7,iris-xe-graphics,ram16gb,none\n",
      "      1 idc055,compnode,openvino-latest,intel-core,i5-1145g7e,iris-xe-graphics,ram8gb,none\n",
      "      1 idc056,compnode,openvino-latest,intel-core,i3-1115g4e,intel-uhd-11th-gen,ram8gb,none\n",
      "      1 idc057,compnode,openvino-latest,intel-core,i5-7500t,intel-hd-630,ram8gb,myriadx-1-vpu\n",
      "      2 idc058,compnode,openvino-latest,intel-core,i5-8265u,intel-uhd-8th-gen,ram8gb,none\n",
      "      1 idc060,compnode,openvino-latest,intel-core,i5-8500,intel-uhd-p630,ram16gb,none\n",
      "      1 idc061,compnode,openvino-latest,intel-xeon,e-2176g,intel-uhd-p630,ram16gb,none\n",
      "      1 idc062,compnode,openvino-latest,intel-celeron,6305e,intel-uhd-graphics,ram16gb,none\n",
      "      4 idc063,compnode,openvino-latest,intel-xeon,w-1290te,intel-uhd-630,ram16gb,none\n",
      "      2 idc065,compnode,openvino-latest,intel-core,i7-8565u,intel-uhd-8th-gen,ram8gb,none\n",
      "      1 idc066,compnode,openvino-latest,intel-core,i3-8145u,intel-uhd-8th-gen,ram4gb,none\n",
      "      1 idc068,compnode,openvino-latest,intel-core,i7-1185g7e,iris-xe-graphics,ram16gb,none\n",
      "      1 idc069,compnode,openvino-latest,intel-core,i5-1135g7,iris-xe-graphics,ram8gb,none\n",
      "      8 idc070,compnode,openvino-latest,intel-pentium,j6426,intel-uhd-10th-gen,ram4gb,none\n",
      "     10 idc071,compnode,openvino-latest,intel-atom,x6425re,intel-uhd-10th-gen,ram16gb,none\n",
      "      2 idc073,compnode,openvino-latest,intel-core,i5-12500te,intel-uhd-770,ram16gb,dlstreamer\n",
      "      5 idc074,compnode,openvino-latest,intel-core,i9-11900kb,intel-uhd-11th-gen,ram32gb,dlstreamer\n",
      "      5 idc075,compnode,openvino-latest,intel-core,i7-11700b,intel-uhd-11th-gen,ram32gb\n",
      "      2 idc079,compnode,openvino-latest,intel-xeon,d-2712t,no-gpu,ram65gb\n",
      "      2 idc080,compnode,openvino-latest,intel-xeon,d-2796nt,no-gpu,ram65gb\n",
      "      3 idc081,compnode,openvino-latest,intel-core,i7-1270pe,iris-xe-graphics,ram32gb\n",
      "      1 idc082,compnode,openvino-latest,intel-xeon,d-2712t,intel-data-center-gpu-flex-140,ram65gb\n",
      "      1 idc083,compnode,openvino-latest,intel-xeon,platinum8480,no-gpu,ram512gb\n",
      "      2 idc084,compnode,openvino-latest,intel-xeon,d-2712t,intel-data-center-gpu-flex-170,ram65gb\n",
      "      4 idc085,compnode,openvino-latest,intel-core,i5-1250pe,iris-xe-graphics,ram32gb\n",
      "      4 idc086,compnode,openvino-latest,intel-core,i9-13900te,intel-uhd-770,ram32gb\n",
      "      3 idc087,compnode,openvino-latest,intel-core,i7-13700te,intel-uhd-770,ram32gb\n",
      "      1 idc088,compnode,openvino-latest,intel-atom,N97,intel-uhd-770,ram16gb\n",
      "      2 idc089,compnode,openvino-latest,intel-atom,x7425E,intel-uhd-770,ram16gb\n",
      "      2 idc091,compnode,openvino-latest,intel-xeon,gold6448y,no-gpu,ram132gb\n",
      "      5 idc092,compnode,openvino-latest,intel-xeon,platinum8480,no-gpu,ram128gb,none\n",
      "      2 idc093,compnode,openvino-latest,intel-core,i3-12300hl,iris-xe-graphics,ram16gb\n",
      "      2 idc094,compnode,openvino-latest,intel-core,i7-12800h,iris-xe-graphics,ram16gb\n",
      "      2 idc096,compnode,openvino-latest,intel-xeon,platinum8480,no-gpu,ram512gb\n",
      "      1 idc097,compnode,openvino-latest,intel-core,i7-13700,arc770,ram64gb,none\n"
     ]
    }
   ],
   "source": [
    "!pbsnodes | grep compnode | awk '{print $3}' | sort | uniq -c"
   ]
  },
  {
   "cell_type": "code",
   "execution_count": 9,
   "id": "49ae252c-7562-4dee-a8ee-61f70244c58a",
   "metadata": {},
   "outputs": [
    {
     "name": "stdout",
     "output_type": "stream",
     "text": [
      "882440.v-qsvr-1.devcloud-edge\n"
     ]
    }
   ],
   "source": [
    "!qsub main.sh -N segment -l nodes=1:idc086 -F \"230604.m4a 0604\" "
   ]
  },
  {
   "cell_type": "code",
   "execution_count": 8,
   "id": "d53d6139-e9e2-414d-b7a1-49f6eb4f8d70",
   "metadata": {
    "tags": []
   },
   "outputs": [
    {
     "name": "stdout",
     "output_type": "stream",
     "text": [
      "882434.v-qsvr-1.devcloud-edge\n"
     ]
    }
   ],
   "source": [
    "!qsub main.sh -N segment -l nodes=1:idc097 -F \"230607.m4a 0607\" "
   ]
  },
  {
   "cell_type": "code",
   "execution_count": 2,
   "id": "7577b6c5-8be2-4921-89ad-7311f798a462",
   "metadata": {
    "tags": []
   },
   "outputs": [
    {
     "data": {
      "application/vnd.jupyter.widget-view+json": {
       "model_id": "2ae46be1360f4357a86110ddd2e82b95",
       "version_major": 2,
       "version_minor": 0
      },
      "text/plain": [
       "Output(layout=Layout(border='1px solid gray', height='200px', overflow_y='auto', width='100%'))"
      ]
     },
     "metadata": {},
     "output_type": "display_data"
    },
    {
     "data": {
      "application/vnd.jupyter.widget-view+json": {
       "model_id": "fbf25905fb79402fb8fa7f6b05943476",
       "version_major": 2,
       "version_minor": 0
      },
      "text/plain": [
       "Button(description='Stop', style=ButtonStyle())"
      ]
     },
     "metadata": {},
     "output_type": "display_data"
    }
   ],
   "source": [
    "from qarpo.demoutils import liveQstat\n",
    "liveQstat()"
   ]
  },
  {
   "cell_type": "code",
   "execution_count": null,
   "id": "b642e031-0da2-43ad-b9e7-b5fc77a5bc0f",
   "metadata": {},
   "outputs": [],
   "source": []
  }
 ],
 "metadata": {
  "kernelspec": {
   "display_name": "Python3 (OpenVINO 2022.2.0 + TensorFlow 2.4)",
   "language": "python",
   "name": "openvino_2022.2-python3.6-tensorflow_2.4"
  },
  "language_info": {
   "codemirror_mode": {
    "name": "ipython",
    "version": 3
   },
   "file_extension": ".py",
   "mimetype": "text/x-python",
   "name": "python",
   "nbconvert_exporter": "python",
   "pygments_lexer": "ipython3",
   "version": "3.6.9"
  }
 },
 "nbformat": 4,
 "nbformat_minor": 5
}
